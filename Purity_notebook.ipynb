{
 "cells": [
  {
   "cell_type": "markdown",
   "id": "fbce7235",
   "metadata": {},
   "source": [
    "**THE PROJECT WILL PURPOSE TO USE MACHINE LEARNING TO MAKE THE BIN SMART BY INTELLIGENTLY DETECTING LEVEL OF WASTE IN THE BIN AND THEREAFTER CONTACT THE SERVER MOTOR TO AUTOMATICALLY EMPTY THE BIN**"
   ]
  },
  {
   "cell_type": "markdown",
   "id": "47780d45",
   "metadata": {},
   "source": [
    "Machine learning is simply the ability of a computer to find patterns in data\n",
    "The dataset is assumed to be the waste collection records of the bin that was done manually and recorded every day."
   ]
  },
  {
   "cell_type": "markdown",
   "id": "f73512a8",
   "metadata": {},
   "source": [
    "## Importing some of the necessary libraries"
   ]
  },
  {
   "cell_type": "code",
   "execution_count": 1,
   "id": "252bc6bf",
   "metadata": {},
   "outputs": [],
   "source": [
    "#basic libs\n",
    "import pandas as pd\n",
    "import numpy as np\n",
    "#visualization libs\n",
    "import matplotlib.pyplot as plt\n",
    "import seaborn as sns\n",
    "#to make graphs be rendered in the backend of matplotlib\n",
    "%matplotlib inline\n",
    "#to avoid unneccessary warning messages such as deprecation warnings from the libraries\n",
    "import warnings\n",
    "warnings.filterwarnings('ignore')"
   ]
  },
  {
   "cell_type": "code",
   "execution_count": 2,
   "id": "330f513a",
   "metadata": {},
   "outputs": [],
   "source": [
    "#conda update --all"
   ]
  },
  {
   "cell_type": "markdown",
   "id": "bd68d6e7",
   "metadata": {},
   "source": [
    "## Load data into a pandas data frame"
   ]
  },
  {
   "cell_type": "code",
   "execution_count": 3,
   "id": "04babe37",
   "metadata": {},
   "outputs": [],
   "source": [
    "#read data into a frame\n",
    "waste = pd.read_csv('MyBin_waste_records.csv')"
   ]
  },
  {
   "cell_type": "markdown",
   "id": "bc013bf9",
   "metadata": {},
   "source": [
    "## Exploratory Data Analysis"
   ]
  },
  {
   "cell_type": "markdown",
   "id": "1279211b",
   "metadata": {},
   "source": [
    "### (1).Understanding the data structure"
   ]
  },
  {
   "cell_type": "markdown",
   "id": "00154149",
   "metadata": {},
   "source": [
    "#### (a).Overall data structure"
   ]
  },
  {
   "cell_type": "code",
   "execution_count": 4,
   "id": "72d7332c",
   "metadata": {},
   "outputs": [
    {
     "data": {
      "text/plain": [
       "Index(['DATE', 'MONTH', 'TYPE', 'TOTAL (IN TONS)'], dtype='object')"
      ]
     },
     "execution_count": 4,
     "metadata": {},
     "output_type": "execute_result"
    }
   ],
   "source": [
    "#what are the features/attributes of our data\n",
    "waste.columns\n",
    "#we have 3 indepedent variables and a depedent variable 'TOTAL'"
   ]
  },
  {
   "cell_type": "code",
   "execution_count": 5,
   "id": "0550e711",
   "metadata": {},
   "outputs": [
    {
     "data": {
      "text/plain": [
       "DATE                object\n",
       "MONTH               object\n",
       "TYPE                object\n",
       "TOTAL (IN TONS)    float64\n",
       "dtype: object"
      ]
     },
     "execution_count": 5,
     "metadata": {},
     "output_type": "execute_result"
    }
   ],
   "source": [
    "#what data types are our attributes\n",
    "waste.dtypes\n",
    "#We have just one numeric attribute"
   ]
  },
  {
   "cell_type": "code",
   "execution_count": 6,
   "id": "ce1f2d7e",
   "metadata": {},
   "outputs": [
    {
     "data": {
      "text/plain": [
       "(1140, 4)"
      ]
     },
     "execution_count": 6,
     "metadata": {},
     "output_type": "execute_result"
    }
   ],
   "source": [
    "#lets see about the shape\n",
    "waste.shape\n",
    "#we have over 1000 records of waste collection"
   ]
  },
  {
   "cell_type": "code",
   "execution_count": 7,
   "id": "80ba079d",
   "metadata": {},
   "outputs": [
    {
     "data": {
      "text/html": [
       "<div>\n",
       "<style scoped>\n",
       "    .dataframe tbody tr th:only-of-type {\n",
       "        vertical-align: middle;\n",
       "    }\n",
       "\n",
       "    .dataframe tbody tr th {\n",
       "        vertical-align: top;\n",
       "    }\n",
       "\n",
       "    .dataframe thead th {\n",
       "        text-align: right;\n",
       "    }\n",
       "</style>\n",
       "<table border=\"1\" class=\"dataframe\">\n",
       "  <thead>\n",
       "    <tr style=\"text-align: right;\">\n",
       "      <th></th>\n",
       "      <th>DATE</th>\n",
       "      <th>MONTH</th>\n",
       "      <th>TYPE</th>\n",
       "      <th>TOTAL (IN TONS)</th>\n",
       "    </tr>\n",
       "  </thead>\n",
       "  <tbody>\n",
       "    <tr>\n",
       "      <th>0</th>\n",
       "      <td>05/31/2012</td>\n",
       "      <td>May</td>\n",
       "      <td>Sidewalk Debris</td>\n",
       "      <td>0.0</td>\n",
       "    </tr>\n",
       "    <tr>\n",
       "      <th>1</th>\n",
       "      <td>12/31/2014</td>\n",
       "      <td>December</td>\n",
       "      <td>Misc. Garbage</td>\n",
       "      <td>66.0</td>\n",
       "    </tr>\n",
       "    <tr>\n",
       "      <th>2</th>\n",
       "      <td>05/31/2014</td>\n",
       "      <td>May</td>\n",
       "      <td>Misc. Recycling</td>\n",
       "      <td>3.0</td>\n",
       "    </tr>\n",
       "    <tr>\n",
       "      <th>3</th>\n",
       "      <td>03/31/2013</td>\n",
       "      <td>March</td>\n",
       "      <td>Misc. Recycling</td>\n",
       "      <td>6.0</td>\n",
       "    </tr>\n",
       "    <tr>\n",
       "      <th>4</th>\n",
       "      <td>03/31/2017</td>\n",
       "      <td>March</td>\n",
       "      <td>Asphalt Debris</td>\n",
       "      <td>0.0</td>\n",
       "    </tr>\n",
       "    <tr>\n",
       "      <th>5</th>\n",
       "      <td>10/31/2013</td>\n",
       "      <td>October</td>\n",
       "      <td>Asphalt Debris</td>\n",
       "      <td>5000.0</td>\n",
       "    </tr>\n",
       "    <tr>\n",
       "      <th>6</th>\n",
       "      <td>10/31/2016</td>\n",
       "      <td>October</td>\n",
       "      <td>Yard Waste</td>\n",
       "      <td>900.0</td>\n",
       "    </tr>\n",
       "    <tr>\n",
       "      <th>7</th>\n",
       "      <td>03/31/2015</td>\n",
       "      <td>March</td>\n",
       "      <td>Recycled Tires</td>\n",
       "      <td>12.0</td>\n",
       "    </tr>\n",
       "    <tr>\n",
       "      <th>8</th>\n",
       "      <td>06/30/2014</td>\n",
       "      <td>June</td>\n",
       "      <td>Misc. Garbage</td>\n",
       "      <td>226.0</td>\n",
       "    </tr>\n",
       "    <tr>\n",
       "      <th>9</th>\n",
       "      <td>01/31/2017</td>\n",
       "      <td>January</td>\n",
       "      <td>Yard Waste</td>\n",
       "      <td>1000.0</td>\n",
       "    </tr>\n",
       "    <tr>\n",
       "      <th>10</th>\n",
       "      <td>12/31/2017</td>\n",
       "      <td>December</td>\n",
       "      <td>Bottle Bill</td>\n",
       "      <td>317.0</td>\n",
       "    </tr>\n",
       "    <tr>\n",
       "      <th>11</th>\n",
       "      <td>01/31/2017</td>\n",
       "      <td>January</td>\n",
       "      <td>Bottle Bill</td>\n",
       "      <td>317.0</td>\n",
       "    </tr>\n",
       "    <tr>\n",
       "      <th>12</th>\n",
       "      <td>11/30/2016</td>\n",
       "      <td>November</td>\n",
       "      <td>Bottle Bill</td>\n",
       "      <td>317.0</td>\n",
       "    </tr>\n",
       "    <tr>\n",
       "      <th>13</th>\n",
       "      <td>03/31/2016</td>\n",
       "      <td>March</td>\n",
       "      <td>Sidewalk Debris</td>\n",
       "      <td>0.0</td>\n",
       "    </tr>\n",
       "    <tr>\n",
       "      <th>14</th>\n",
       "      <td>03/31/2014</td>\n",
       "      <td>March</td>\n",
       "      <td>Scrap Metal</td>\n",
       "      <td>336.0</td>\n",
       "    </tr>\n",
       "    <tr>\n",
       "      <th>15</th>\n",
       "      <td>02/28/2016</td>\n",
       "      <td>February</td>\n",
       "      <td>Misc. Garbage</td>\n",
       "      <td>1026.0</td>\n",
       "    </tr>\n",
       "    <tr>\n",
       "      <th>16</th>\n",
       "      <td>07/31/2011</td>\n",
       "      <td>July</td>\n",
       "      <td>Curb Garbage</td>\n",
       "      <td>9070.0</td>\n",
       "    </tr>\n",
       "    <tr>\n",
       "      <th>17</th>\n",
       "      <td>07/31/2017</td>\n",
       "      <td>July</td>\n",
       "      <td>Asphalt Debris</td>\n",
       "      <td>0.0</td>\n",
       "    </tr>\n",
       "    <tr>\n",
       "      <th>18</th>\n",
       "      <td>03/31/2015</td>\n",
       "      <td>March</td>\n",
       "      <td>Haz Waste</td>\n",
       "      <td>0.0</td>\n",
       "    </tr>\n",
       "    <tr>\n",
       "      <th>19</th>\n",
       "      <td>05/31/2015</td>\n",
       "      <td>May</td>\n",
       "      <td>Misc. Recycling</td>\n",
       "      <td>2.0</td>\n",
       "    </tr>\n",
       "  </tbody>\n",
       "</table>\n",
       "</div>"
      ],
      "text/plain": [
       "          DATE     MONTH             TYPE  TOTAL (IN TONS)\n",
       "0   05/31/2012       May  Sidewalk Debris              0.0\n",
       "1   12/31/2014  December    Misc. Garbage             66.0\n",
       "2   05/31/2014       May  Misc. Recycling              3.0\n",
       "3   03/31/2013     March  Misc. Recycling              6.0\n",
       "4   03/31/2017     March   Asphalt Debris              0.0\n",
       "5   10/31/2013   October   Asphalt Debris           5000.0\n",
       "6   10/31/2016   October       Yard Waste            900.0\n",
       "7   03/31/2015     March   Recycled Tires             12.0\n",
       "8   06/30/2014      June    Misc. Garbage            226.0\n",
       "9   01/31/2017   January       Yard Waste           1000.0\n",
       "10  12/31/2017  December      Bottle Bill            317.0\n",
       "11  01/31/2017   January      Bottle Bill            317.0\n",
       "12  11/30/2016  November      Bottle Bill            317.0\n",
       "13  03/31/2016     March  Sidewalk Debris              0.0\n",
       "14  03/31/2014     March      Scrap Metal            336.0\n",
       "15  02/28/2016  February    Misc. Garbage           1026.0\n",
       "16  07/31/2011      July     Curb Garbage           9070.0\n",
       "17  07/31/2017      July   Asphalt Debris              0.0\n",
       "18  03/31/2015     March        Haz Waste              0.0\n",
       "19  05/31/2015       May  Misc. Recycling              2.0"
      ]
     },
     "execution_count": 7,
     "metadata": {},
     "output_type": "execute_result"
    }
   ],
   "source": [
    "#lets now take a view of the first 20 rows of our data\n",
    "waste.head(20)\n",
    "#all our attributes actually contains categorical data and one numerical(TOTAL)\n",
    "#In my own opinion the day and month values in the'DATE' column wont be significant to us in this form,so we can \n",
    "#truncate the rest of it and remain with just YEAR which is atleast more significant,we will do this in EDA stage"
   ]
  },
  {
   "cell_type": "code",
   "execution_count": 8,
   "id": "a41a4739",
   "metadata": {},
   "outputs": [
    {
     "name": "stdout",
     "output_type": "stream",
     "text": [
      "<class 'pandas.core.frame.DataFrame'>\n",
      "RangeIndex: 1140 entries, 0 to 1139\n",
      "Data columns (total 4 columns):\n",
      " #   Column           Non-Null Count  Dtype  \n",
      "---  ------           --------------  -----  \n",
      " 0   DATE             1140 non-null   object \n",
      " 1   MONTH            1140 non-null   object \n",
      " 2   TYPE             1140 non-null   object \n",
      " 3   TOTAL (IN TONS)  1139 non-null   float64\n",
      "dtypes: float64(1), object(3)\n",
      "memory usage: 35.8+ KB\n"
     ]
    }
   ],
   "source": [
    "#get general data info\n",
    "waste.info()\n",
    "#says we have some null values in the column total,we will have to deal with this later"
   ]
  },
  {
   "cell_type": "markdown",
   "id": "b7fb2e12",
   "metadata": {},
   "source": [
    "#### (b).Numerical attributes"
   ]
  },
  {
   "cell_type": "code",
   "execution_count": 9,
   "id": "20595881",
   "metadata": {},
   "outputs": [],
   "source": [
    "#For now the only present numerical attribute is waste weight in tons which is our target variable\n",
    "numerical=waste.select_dtypes(exclude='object')"
   ]
  },
  {
   "cell_type": "code",
   "execution_count": 10,
   "id": "f56ca56b",
   "metadata": {},
   "outputs": [
    {
     "data": {
      "text/html": [
       "<div>\n",
       "<style scoped>\n",
       "    .dataframe tbody tr th:only-of-type {\n",
       "        vertical-align: middle;\n",
       "    }\n",
       "\n",
       "    .dataframe tbody tr th {\n",
       "        vertical-align: top;\n",
       "    }\n",
       "\n",
       "    .dataframe thead th {\n",
       "        text-align: right;\n",
       "    }\n",
       "</style>\n",
       "<table border=\"1\" class=\"dataframe\">\n",
       "  <thead>\n",
       "    <tr style=\"text-align: right;\">\n",
       "      <th></th>\n",
       "      <th>TOTAL (IN TONS)</th>\n",
       "    </tr>\n",
       "  </thead>\n",
       "  <tbody>\n",
       "    <tr>\n",
       "      <th>count</th>\n",
       "      <td>1139.000000</td>\n",
       "    </tr>\n",
       "    <tr>\n",
       "      <th>mean</th>\n",
       "      <td>1200.950834</td>\n",
       "    </tr>\n",
       "    <tr>\n",
       "      <th>std</th>\n",
       "      <td>2468.112134</td>\n",
       "    </tr>\n",
       "    <tr>\n",
       "      <th>min</th>\n",
       "      <td>0.000000</td>\n",
       "    </tr>\n",
       "    <tr>\n",
       "      <th>25%</th>\n",
       "      <td>0.000000</td>\n",
       "    </tr>\n",
       "    <tr>\n",
       "      <th>50%</th>\n",
       "      <td>45.000000</td>\n",
       "    </tr>\n",
       "    <tr>\n",
       "      <th>75%</th>\n",
       "      <td>1000.000000</td>\n",
       "    </tr>\n",
       "    <tr>\n",
       "      <th>max</th>\n",
       "      <td>12594.000000</td>\n",
       "    </tr>\n",
       "  </tbody>\n",
       "</table>\n",
       "</div>"
      ],
      "text/plain": [
       "       TOTAL (IN TONS)\n",
       "count      1139.000000\n",
       "mean       1200.950834\n",
       "std        2468.112134\n",
       "min           0.000000\n",
       "25%           0.000000\n",
       "50%          45.000000\n",
       "75%        1000.000000\n",
       "max       12594.000000"
      ]
     },
     "execution_count": 10,
     "metadata": {},
     "output_type": "execute_result"
    }
   ],
   "source": [
    "#we can view its statistical summary\n",
    "numerical.describe()\n",
    "#the statistical summary shows that the values are skewed since over 50% are only 45 tons while the max is 12000 plus"
   ]
  },
  {
   "cell_type": "markdown",
   "id": "be077233",
   "metadata": {},
   "source": [
    "#### (c).Categorical attributes"
   ]
  },
  {
   "cell_type": "code",
   "execution_count": 11,
   "id": "fbf2629e",
   "metadata": {},
   "outputs": [],
   "source": [
    "# select the categorical predictors\n",
    "categoricals = waste.select_dtypes(include='object')"
   ]
  },
  {
   "cell_type": "code",
   "execution_count": 12,
   "id": "4277abfe",
   "metadata": {},
   "outputs": [
    {
     "data": {
      "text/html": [
       "<div>\n",
       "<style scoped>\n",
       "    .dataframe tbody tr th:only-of-type {\n",
       "        vertical-align: middle;\n",
       "    }\n",
       "\n",
       "    .dataframe tbody tr th {\n",
       "        vertical-align: top;\n",
       "    }\n",
       "\n",
       "    .dataframe thead th {\n",
       "        text-align: right;\n",
       "    }\n",
       "</style>\n",
       "<table border=\"1\" class=\"dataframe\">\n",
       "  <thead>\n",
       "    <tr style=\"text-align: right;\">\n",
       "      <th></th>\n",
       "      <th>count</th>\n",
       "      <th>unique</th>\n",
       "      <th>top</th>\n",
       "      <th>freq</th>\n",
       "    </tr>\n",
       "  </thead>\n",
       "  <tbody>\n",
       "    <tr>\n",
       "      <th>DATE</th>\n",
       "      <td>1140</td>\n",
       "      <td>95</td>\n",
       "      <td>05/31/2012</td>\n",
       "      <td>12</td>\n",
       "    </tr>\n",
       "    <tr>\n",
       "      <th>MONTH</th>\n",
       "      <td>1140</td>\n",
       "      <td>12</td>\n",
       "      <td>May</td>\n",
       "      <td>96</td>\n",
       "    </tr>\n",
       "    <tr>\n",
       "      <th>TYPE</th>\n",
       "      <td>1140</td>\n",
       "      <td>12</td>\n",
       "      <td>Sidewalk Debris</td>\n",
       "      <td>95</td>\n",
       "    </tr>\n",
       "  </tbody>\n",
       "</table>\n",
       "</div>"
      ],
      "text/plain": [
       "      count unique              top freq\n",
       "DATE   1140     95       05/31/2012   12\n",
       "MONTH  1140     12              May   96\n",
       "TYPE   1140     12  Sidewalk Debris   95"
      ]
     },
     "execution_count": 12,
     "metadata": {},
     "output_type": "execute_result"
    }
   ],
   "source": [
    "#lets get useful summary about the values in this attributes\n",
    "categoricals.describe().transpose()\n",
    "#there are 95 unique days when wastes were recorded,out of those days ,day 05/31/2012 is the most frequent\n",
    "#you can see that Sidewalk Debris type of waste is most common ,is recorded atleast once in a month."
   ]
  },
  {
   "cell_type": "markdown",
   "id": "4abdeef1",
   "metadata": {},
   "source": [
    "### (2).Exploring the data"
   ]
  },
  {
   "cell_type": "markdown",
   "id": "e4e7e893",
   "metadata": {},
   "source": [
    "#### (a).numerical attributes"
   ]
  },
  {
   "cell_type": "markdown",
   "id": "0e6ea7f6",
   "metadata": {},
   "source": [
    "##### (i).Target"
   ]
  },
  {
   "cell_type": "code",
   "execution_count": 13,
   "id": "ab1a1059",
   "metadata": {},
   "outputs": [],
   "source": [
    "#we only have one numerical attribute which is the target,lets just reselect it\n",
    "target = waste[['TOTAL (IN TONS)']]"
   ]
  },
  {
   "cell_type": "code",
   "execution_count": 14,
   "id": "f8bc5057",
   "metadata": {},
   "outputs": [
    {
     "data": {
      "text/plain": [
       "Index(['TOTAL (IN TONS)'], dtype='object')"
      ]
     },
     "execution_count": 14,
     "metadata": {},
     "output_type": "execute_result"
    }
   ],
   "source": [
    "#Confirm its selected\n",
    "target.columns"
   ]
  },
  {
   "cell_type": "code",
   "execution_count": 15,
   "id": "f52d0580",
   "metadata": {},
   "outputs": [
    {
     "data": {
      "image/png": "[encoded data removed]",
      "text/plain": [
       "<Figure size 576x360 with 1 Axes>"
      ]
     },
     "metadata": {
      "needs_background": "light"
     },
     "output_type": "display_data"
    }
   ],
   "source": [
    "#lets see the distribution of its values\n",
    "fig = plt.figure(figsize=(8,5))\n",
    "sns.distplot(target,hist=False)\n",
    "plt.title('distribution of waste weight in tons')\n",
    "plt.xlabel('total waste in tons')\n",
    "plt.show()\n",
    "#distribution plot shows that the values in 'TOTAL (IN TONS)' are skewed to the right,solving this won't have \n",
    "#any impact on the performance of the model since it contains the values to be predicted"
   ]
  },
  {
   "cell_type": "code",
   "execution_count": 16,
   "id": "675b44e0",
   "metadata": {},
   "outputs": [
    {
     "data": {
      "image/png": "[encoded data removed]",
      "text/plain": [
       "<Figure size 432x288 with 1 Axes>"
      ]
     },
     "metadata": {
      "needs_background": "light"
     },
     "output_type": "display_data"
    }
   ],
   "source": [
    "#Lets see more on distribution via histplot\n",
    "waste.hist(column='TOTAL (IN TONS)',bins=50)\n",
    "plt.title('Waste weight in tons')\n",
    "plt.xlabel('total waste in tons')\n",
    "plt.show()"
   ]
  },
  {
   "cell_type": "code",
   "execution_count": 17,
   "id": "94cf2a66",
   "metadata": {},
   "outputs": [
    {
     "data": {
      "image/png": "[encoded data removed]",
      "text/plain": [
       "<Figure size 576x360 with 1 Axes>"
      ]
     },
     "metadata": {
      "needs_background": "light"
     },
     "output_type": "display_data"
    }
   ],
   "source": [
    "#lets see about presence of outliers in the weight records\n",
    "target = waste[['TOTAL (IN TONS)']].values\n",
    "fig = plt.figure(figsize=(8,5))\n",
    "sns.boxplot(y=target)\n",
    "plt.title('presence/absence of outliers in waste weights')\n",
    "plt.ylabel('TOTAL (IN TONS)')\n",
    "plt.show()\n",
    "#We have many outliers for weights ranging from 3000 to 12000 and above"
   ]
  },
  {
   "cell_type": "markdown",
   "id": "beecb79e",
   "metadata": {},
   "source": [
    "##### (ii).Predictors"
   ]
  },
  {
   "cell_type": "markdown",
   "id": "19231c6a",
   "metadata": {},
   "source": [
    "HERE WE WILL MODIFY THE PREDICTOR VARIABLE DATE TO BE YEAR SINCE DATE IN THAT FORMAT IS NOT THAT SIGNIFICANT,THEREFORE WE WILL HAVE A NEW NUMERICAL ATTRIBUTE CALLED YEAR AND NOW EXPLORE IT AS A NUMERICAL PREDICTOR."
   ]
  },
  {
   "cell_type": "code",
   "execution_count": 18,
   "id": "f2c0d637",
   "metadata": {},
   "outputs": [
    {
     "data": {
      "text/html": [
       "<div>\n",
       "<style scoped>\n",
       "    .dataframe tbody tr th:only-of-type {\n",
       "        vertical-align: middle;\n",
       "    }\n",
       "\n",
       "    .dataframe tbody tr th {\n",
       "        vertical-align: top;\n",
       "    }\n",
       "\n",
       "    .dataframe thead th {\n",
       "        text-align: right;\n",
       "    }\n",
       "</style>\n",
       "<table border=\"1\" class=\"dataframe\">\n",
       "  <thead>\n",
       "    <tr style=\"text-align: right;\">\n",
       "      <th></th>\n",
       "      <th>DATE</th>\n",
       "      <th>MONTH</th>\n",
       "      <th>TYPE</th>\n",
       "      <th>TOTAL (IN TONS)</th>\n",
       "    </tr>\n",
       "  </thead>\n",
       "  <tbody>\n",
       "    <tr>\n",
       "      <th>0</th>\n",
       "      <td>05/31/2012</td>\n",
       "      <td>May</td>\n",
       "      <td>Sidewalk Debris</td>\n",
       "      <td>0.0</td>\n",
       "    </tr>\n",
       "    <tr>\n",
       "      <th>1</th>\n",
       "      <td>12/31/2014</td>\n",
       "      <td>December</td>\n",
       "      <td>Misc. Garbage</td>\n",
       "      <td>66.0</td>\n",
       "    </tr>\n",
       "    <tr>\n",
       "      <th>2</th>\n",
       "      <td>05/31/2014</td>\n",
       "      <td>May</td>\n",
       "      <td>Misc. Recycling</td>\n",
       "      <td>3.0</td>\n",
       "    </tr>\n",
       "    <tr>\n",
       "      <th>3</th>\n",
       "      <td>03/31/2013</td>\n",
       "      <td>March</td>\n",
       "      <td>Misc. Recycling</td>\n",
       "      <td>6.0</td>\n",
       "    </tr>\n",
       "    <tr>\n",
       "      <th>4</th>\n",
       "      <td>03/31/2017</td>\n",
       "      <td>March</td>\n",
       "      <td>Asphalt Debris</td>\n",
       "      <td>0.0</td>\n",
       "    </tr>\n",
       "  </tbody>\n",
       "</table>\n",
       "</div>"
      ],
      "text/plain": [
       "         DATE     MONTH             TYPE  TOTAL (IN TONS)\n",
       "0  05/31/2012       May  Sidewalk Debris              0.0\n",
       "1  12/31/2014  December    Misc. Garbage             66.0\n",
       "2  05/31/2014       May  Misc. Recycling              3.0\n",
       "3  03/31/2013     March  Misc. Recycling              6.0\n",
       "4  03/31/2017     March   Asphalt Debris              0.0"
      ]
     },
     "execution_count": 18,
     "metadata": {},
     "output_type": "execute_result"
    }
   ],
   "source": [
    "#Inititally\n",
    "waste.head()"
   ]
  },
  {
   "cell_type": "code",
   "execution_count": 19,
   "id": "8c1f335f",
   "metadata": {},
   "outputs": [],
   "source": [
    "#Let's define a function to make the date column to be years  since it is not significant in that format.\n",
    "#The new Date will now be a numerical #predictor\n",
    "\n",
    "waste.head()\n",
    "def clean_date(value):\n",
    "    value = value[6:]\n",
    "    return int(value)\n",
    "waste['DATE']=waste['DATE'].apply(clean_date)\n",
    "#WHAT THIS FUNCTION HAS DONE IS THAT IT HAS TRUNCATED THE DAY AND MONTH PART OF THE STRING DATE "
   ]
  },
  {
   "cell_type": "code",
   "execution_count": 20,
   "id": "5c7ca1bc",
   "metadata": {},
   "outputs": [
    {
     "data": {
      "text/html": [
       "<div>\n",
       "<style scoped>\n",
       "    .dataframe tbody tr th:only-of-type {\n",
       "        vertical-align: middle;\n",
       "    }\n",
       "\n",
       "    .dataframe tbody tr th {\n",
       "        vertical-align: top;\n",
       "    }\n",
       "\n",
       "    .dataframe thead th {\n",
       "        text-align: right;\n",
       "    }\n",
       "</style>\n",
       "<table border=\"1\" class=\"dataframe\">\n",
       "  <thead>\n",
       "    <tr style=\"text-align: right;\">\n",
       "      <th></th>\n",
       "      <th>YEAR</th>\n",
       "      <th>MONTH</th>\n",
       "      <th>TYPE</th>\n",
       "      <th>TOTAL (IN TONS)</th>\n",
       "    </tr>\n",
       "  </thead>\n",
       "  <tbody>\n",
       "    <tr>\n",
       "      <th>0</th>\n",
       "      <td>2012</td>\n",
       "      <td>May</td>\n",
       "      <td>Sidewalk Debris</td>\n",
       "      <td>0.0</td>\n",
       "    </tr>\n",
       "    <tr>\n",
       "      <th>1</th>\n",
       "      <td>2014</td>\n",
       "      <td>December</td>\n",
       "      <td>Misc. Garbage</td>\n",
       "      <td>66.0</td>\n",
       "    </tr>\n",
       "    <tr>\n",
       "      <th>2</th>\n",
       "      <td>2014</td>\n",
       "      <td>May</td>\n",
       "      <td>Misc. Recycling</td>\n",
       "      <td>3.0</td>\n",
       "    </tr>\n",
       "    <tr>\n",
       "      <th>3</th>\n",
       "      <td>2013</td>\n",
       "      <td>March</td>\n",
       "      <td>Misc. Recycling</td>\n",
       "      <td>6.0</td>\n",
       "    </tr>\n",
       "    <tr>\n",
       "      <th>4</th>\n",
       "      <td>2017</td>\n",
       "      <td>March</td>\n",
       "      <td>Asphalt Debris</td>\n",
       "      <td>0.0</td>\n",
       "    </tr>\n",
       "  </tbody>\n",
       "</table>\n",
       "</div>"
      ],
      "text/plain": [
       "   YEAR     MONTH             TYPE  TOTAL (IN TONS)\n",
       "0  2012       May  Sidewalk Debris              0.0\n",
       "1  2014  December    Misc. Garbage             66.0\n",
       "2  2014       May  Misc. Recycling              3.0\n",
       "3  2013     March  Misc. Recycling              6.0\n",
       "4  2017     March   Asphalt Debris              0.0"
      ]
     },
     "execution_count": 20,
     "metadata": {},
     "output_type": "execute_result"
    }
   ],
   "source": [
    "#So we have modified the column date to be YEAR,we can rename it to YEAR and drop column DATE\n",
    "waste['DATE']=waste.rename(columns={'DATE':'YEAR'},inplace=True)\n",
    "waste=waste.drop('DATE',axis=1)\n",
    "waste.head()"
   ]
  },
  {
   "cell_type": "code",
   "execution_count": 21,
   "id": "4c6943b7",
   "metadata": {},
   "outputs": [
    {
     "data": {
      "text/plain": [
       "YEAR                 int64\n",
       "MONTH               object\n",
       "TYPE                object\n",
       "TOTAL (IN TONS)    float64\n",
       "dtype: object"
      ]
     },
     "execution_count": 21,
     "metadata": {},
     "output_type": "execute_result"
    }
   ],
   "source": [
    "#Lets see the data types of our attributes now,we have two numerical and two categorical\n",
    "waste.dtypes"
   ]
  },
  {
   "cell_type": "markdown",
   "id": "62e34faf",
   "metadata": {},
   "source": [
    "Lets now explore on this new numerical attribute that we generated from date"
   ]
  },
  {
   "cell_type": "code",
   "execution_count": 22,
   "id": "e4a343a2",
   "metadata": {},
   "outputs": [],
   "source": [
    "#Select it\n",
    "numericals = waste.select_dtypes(include='int64')"
   ]
  },
  {
   "cell_type": "code",
   "execution_count": 23,
   "id": "5678347f",
   "metadata": {},
   "outputs": [
    {
     "data": {
      "text/html": [
       "<div>\n",
       "<style scoped>\n",
       "    .dataframe tbody tr th:only-of-type {\n",
       "        vertical-align: middle;\n",
       "    }\n",
       "\n",
       "    .dataframe tbody tr th {\n",
       "        vertical-align: top;\n",
       "    }\n",
       "\n",
       "    .dataframe thead th {\n",
       "        text-align: right;\n",
       "    }\n",
       "</style>\n",
       "<table border=\"1\" class=\"dataframe\">\n",
       "  <thead>\n",
       "    <tr style=\"text-align: right;\">\n",
       "      <th></th>\n",
       "      <th>YEAR</th>\n",
       "    </tr>\n",
       "  </thead>\n",
       "  <tbody>\n",
       "    <tr>\n",
       "      <th>0</th>\n",
       "      <td>2012</td>\n",
       "    </tr>\n",
       "    <tr>\n",
       "      <th>1</th>\n",
       "      <td>2014</td>\n",
       "    </tr>\n",
       "    <tr>\n",
       "      <th>2</th>\n",
       "      <td>2014</td>\n",
       "    </tr>\n",
       "    <tr>\n",
       "      <th>3</th>\n",
       "      <td>2013</td>\n",
       "    </tr>\n",
       "    <tr>\n",
       "      <th>4</th>\n",
       "      <td>2017</td>\n",
       "    </tr>\n",
       "  </tbody>\n",
       "</table>\n",
       "</div>"
      ],
      "text/plain": [
       "   YEAR\n",
       "0  2012\n",
       "1  2014\n",
       "2  2014\n",
       "3  2013\n",
       "4  2017"
      ]
     },
     "execution_count": 23,
     "metadata": {},
     "output_type": "execute_result"
    }
   ],
   "source": [
    "#confirm\n",
    "numericals.head()"
   ]
  },
  {
   "cell_type": "code",
   "execution_count": 24,
   "id": "ae2d8f97",
   "metadata": {},
   "outputs": [
    {
     "data": {
      "text/plain": [
       "array([2012, 2014, 2013, 2017, 2016, 2015, 2011, 2018], dtype=int64)"
      ]
     },
     "execution_count": 24,
     "metadata": {},
     "output_type": "execute_result"
    }
   ],
   "source": [
    "#How many unique years do we have\n",
    "waste['YEAR'].unique()\n",
    "#We have records from year 2011 to 2018(8yrs)"
   ]
  },
  {
   "cell_type": "code",
   "execution_count": 25,
   "id": "27bce9be",
   "metadata": {},
   "outputs": [
    {
     "data": {
      "image/png": "[encoded data removed]",
      "text/plain": [
       "<Figure size 576x360 with 1 Axes>"
      ]
     },
     "metadata": {
      "needs_background": "light"
     },
     "output_type": "display_data"
    }
   ],
   "source": [
    "#let's see the distribution of recorded data over Years\n",
    "fig=plt.figure(figsize=(8,5))\n",
    "sns.distplot(numericals,hist=False)\n",
    "plt.xlabel('YEAR')\n",
    "plt.title('Distribution of YEARS')\n",
    "plt.show()\n",
    "#from 2010 to 2012 the number of records has been increasing but from 2018 to 2020 those who were recording this waste records\n",
    "#started decreasing the rate at which they were recording.They stoped recording in 2020b"
   ]
  },
  {
   "cell_type": "code",
   "execution_count": 26,
   "id": "bcf43d55",
   "metadata": {},
   "outputs": [
    {
     "data": {
      "image/png": "[encoded data removed]",
      "text/plain": [
       "<Figure size 576x360 with 1 Axes>"
      ]
     },
     "metadata": {
      "needs_background": "light"
     },
     "output_type": "display_data"
    }
   ],
   "source": [
    "#Do we have outliers in this YEAR feature\n",
    "fig=plt.figure(figsize=(8,5))\n",
    "sns.boxplot(y=waste['YEAR'])\n",
    "plt.title('years boxplot')\n",
    "plt.ylabel('YEARS')\n",
    "plt.show()\n",
    "#We actually don't have outliers with this feature,it seems a good predictor!"
   ]
  },
  {
   "cell_type": "code",
   "execution_count": 27,
   "id": "962e3d5a",
   "metadata": {},
   "outputs": [
    {
     "data": {
      "text/plain": [
       "YEAR              -0.053552\n",
       "TOTAL (IN TONS)    1.000000\n",
       "Name: TOTAL (IN TONS), dtype: float64"
      ]
     },
     "execution_count": 27,
     "metadata": {},
     "output_type": "execute_result"
    }
   ],
   "source": [
    "#Is it correlated with our target variable TOTAL WASTE?\n",
    "corr=waste.corr()\n",
    "corr['TOTAL (IN TONS)']\n",
    "#it has a negative correlation(though weak) with waste amount,meaning with time the amount of waste being recorded dropped.\n",
    "#This could probably mean people have adopted better ways to handle waste and probably reuse some used products."
   ]
  },
  {
   "cell_type": "code",
   "execution_count": 28,
   "id": "c4be8a69",
   "metadata": {},
   "outputs": [
    {
     "data": {
      "image/png": "[encoded data removed]",
      "text/plain": [
       "<Figure size 576x360 with 1 Axes>"
      ]
     },
     "metadata": {
      "needs_background": "light"
     },
     "output_type": "display_data"
    }
   ],
   "source": [
    "fig=plt.figure(figsize=(8,5))\n",
    "sns.regplot(y=waste['TOTAL (IN TONS)'],x=waste['YEAR'])\n",
    "plt.title('Correlation between Time and Amount of waste')\n",
    "plt.xlabel('YEARS')\n",
    "plt.ylabel('AMOUNT OF WASTE')\n",
    "plt.show()\n",
    "# A regression line confirms to us that time is weakly negatively correlated with weight of waste\n",
    "#Therefore there is a weak negative correlation between time and amount of waste"
   ]
  },
  {
   "cell_type": "code",
   "execution_count": 29,
   "id": "b67934da",
   "metadata": {},
   "outputs": [
    {
     "data": {
      "image/png": "[encoded data removed]",
      "text/plain": [
       "<Figure size 576x360 with 1 Axes>"
      ]
     },
     "metadata": {
      "needs_background": "light"
     },
     "output_type": "display_data"
    }
   ],
   "source": [
    "#Lets use a scatter plot investigate the relationship between time and the total wste\n",
    "fig=plt.figure(figsize=(8,5))\n",
    "plt.scatter(x=waste['TOTAL (IN TONS)'],y=waste['YEAR'])\n",
    "plt.title('Time against waste accumulation')\n",
    "plt.ylabel('YEARS')\n",
    "plt.xlabel('AMOUNT OF WASTE')\n",
    "plt.show()\n",
    "#the highest amount of waste was recorded in 2013"
   ]
  },
  {
   "cell_type": "code",
   "execution_count": 30,
   "id": "eab080ce",
   "metadata": {
    "scrolled": true
   },
   "outputs": [
    {
     "data": {
      "image/png": "[encoded data removed]",
      "text/plain": [
       "<Figure size 576x360 with 1 Axes>"
      ]
     },
     "metadata": {
      "needs_background": "light"
     },
     "output_type": "display_data"
    }
   ],
   "source": [
    "fig=plt.figure(figsize=(8,5))\n",
    "sns.barplot(y=waste['TOTAL (IN TONS)'],x=waste['YEAR'])\n",
    "plt.title('Time against waste accumulation')\n",
    "plt.ylabel('YEARS')\n",
    "plt.xlabel('AMOUNT OF WASTE')\n",
    "plt.show()\n",
    "#A bar plot tells us that in 2014 high amounts of waste in total was recorded"
   ]
  },
  {
   "cell_type": "code",
   "execution_count": 31,
   "id": "1f048fcb",
   "metadata": {},
   "outputs": [
    {
     "data": {
      "image/png": "[encoded data removed]",
      "text/plain": [
       "<Figure size 1296x432 with 1 Axes>"
      ]
     },
     "metadata": {
      "needs_background": "light"
     },
     "output_type": "display_data"
    }
   ],
   "source": [
    "#What about time and type of waste\n",
    "fig=plt.figure(figsize=(18,6))\n",
    "sns.barplot(x=waste['TYPE'],y=waste['YEAR'])\n",
    "plt.title('Time against type of waste')\n",
    "plt.ylabel('YEARS')\n",
    "plt.xlabel('TYPE OF WASTE')\n",
    "plt.show()\n",
    "#We can see that in every year all the types of waste were represented"
   ]
  },
  {
   "cell_type": "markdown",
   "id": "cd49d522",
   "metadata": {},
   "source": [
    "#### (b).Categorical attributes"
   ]
  },
  {
   "cell_type": "markdown",
   "id": "436647d2",
   "metadata": {},
   "source": [
    "##### (i).Predictors"
   ]
  },
  {
   "cell_type": "code",
   "execution_count": 32,
   "id": "938f3f88",
   "metadata": {},
   "outputs": [],
   "source": [
    "# isolate them\n",
    "cate = waste.select_dtypes(include='object')"
   ]
  },
  {
   "cell_type": "code",
   "execution_count": 33,
   "id": "55610739",
   "metadata": {},
   "outputs": [
    {
     "data": {
      "text/plain": [
       "Index(['MONTH', 'TYPE'], dtype='object')"
      ]
     },
     "execution_count": 33,
     "metadata": {},
     "output_type": "execute_result"
    }
   ],
   "source": [
    "#These are the columns,we only have two categorical predictors since we converted DATE into numerical YEAR\n",
    "cate.columns"
   ]
  },
  {
   "cell_type": "code",
   "execution_count": 34,
   "id": "722e151d",
   "metadata": {},
   "outputs": [
    {
     "data": {
      "text/plain": [
       "Text(0.5, 1.0, 'Time in months against waste accumulation weight in tons')"
      ]
     },
     "execution_count": 34,
     "metadata": {},
     "output_type": "execute_result"
    },
    {
     "data": {
      "image/png": "[encoded data removed]",
      "text/plain": [
       "<Figure size 1296x720 with 1 Axes>"
      ]
     },
     "metadata": {
      "needs_background": "light"
     },
     "output_type": "display_data"
    }
   ],
   "source": [
    "#How does time in months relate with the weight of wastes\n",
    "fig = plt.figure(figsize=(18,10))\n",
    "plt.bar(waste['MONTH'],waste['TOTAL (IN TONS)'],width=1,color='maroon')\n",
    "plt.title('Time in months against waste accumulation weight in tons')\n",
    "#We can see that in the month of May highest amount of waste was recorded,while in February least waste amount was recorded."
   ]
  },
  {
   "cell_type": "code",
   "execution_count": 35,
   "id": "ef77e35e",
   "metadata": {},
   "outputs": [
    {
     "data": {
      "image/png": "[encoded data removed]",
      "text/plain": [
       "<Figure size 432x288 with 1 Axes>"
      ]
     },
     "metadata": {
      "needs_background": "light"
     },
     "output_type": "display_data"
    }
   ],
   "source": [
    "#How are waste types distributed\n",
    "sns.countplot(y=waste['TYPE'])\n",
    "plt.title('Frequency of different waste types')\n",
    "plt.xlabel('Frequency')\n",
    "plt.show()\n",
    "#The graph says that the number of times each type appears in the data are all equal,we will prove this in a moment"
   ]
  },
  {
   "cell_type": "code",
   "execution_count": 36,
   "id": "51b49bd5",
   "metadata": {},
   "outputs": [
    {
     "data": {
      "text/plain": [
       "Sidewalk Debris    95\n",
       "Misc. Garbage      95\n",
       "Misc. Recycling    95\n",
       "Asphalt Debris     95\n",
       "Yard Waste         95\n",
       "Recycled Tires     95\n",
       "Bottle Bill        95\n",
       "Scrap Metal        95\n",
       "Curb Garbage       95\n",
       "Haz Waste          95\n",
       "Curb Recycling     95\n",
       "E-Waste            95\n",
       "Name: TYPE, dtype: int64"
      ]
     },
     "execution_count": 36,
     "metadata": {},
     "output_type": "execute_result"
    }
   ],
   "source": [
    "#Lets prove\n",
    "waste['TYPE'].value_counts()\n",
    "#Sure they are,scrap metal appears 95 times just like all other types of wastes."
   ]
  },
  {
   "cell_type": "code",
   "execution_count": 37,
   "id": "f82abead",
   "metadata": {},
   "outputs": [
    {
     "data": {
      "image/png": "[encoded data removed]",
      "text/plain": [
       "<Figure size 432x288 with 1 Axes>"
      ]
     },
     "metadata": {
      "needs_background": "light"
     },
     "output_type": "display_data"
    }
   ],
   "source": [
    "#How do type of waste relate with weight in tons of the total wastes accumulation\n",
    "sns.boxplot(y=waste['TYPE'],x=waste['TOTAL (IN TONS)'])\n",
    "plt.title('Waste type against total weight in TONS')\n",
    "plt.show()\n",
    "#We see that the weight of waste type Asphalt Debris is the highest in total while E-Waste weight is the least"
   ]
  },
  {
   "cell_type": "markdown",
   "id": "aaf48b3f",
   "metadata": {},
   "source": [
    "*We have gained enough of the insights in our data and lets jump into the preprocessing stage and clean our data for machine learning model.*"
   ]
  },
  {
   "cell_type": "markdown",
   "id": "c6ccf1bb",
   "metadata": {},
   "source": [
    "### (3).Preprocessing the data"
   ]
  },
  {
   "cell_type": "markdown",
   "id": "2e8333c5",
   "metadata": {},
   "source": [
    "Data preprocessing is one of the most tedious time consuming stages in the development of a machine learning model."
   ]
  },
  {
   "cell_type": "code",
   "execution_count": 38,
   "id": "3e098ed6",
   "metadata": {},
   "outputs": [
    {
     "name": "stdout",
     "output_type": "stream",
     "text": [
      "Requirement already satisfied: scikit-learn in d:\\anaconda_2\\lib\\site-packages (1.0.2)\n",
      "Requirement already satisfied: threadpoolctl>=2.0.0 in d:\\anaconda_2\\lib\\site-packages (from scikit-learn) (3.1.0)\n",
      "Requirement already satisfied: scipy>=1.1.0 in d:\\anaconda_2\\lib\\site-packages (from scikit-learn) (1.8.0)\n",
      "Requirement already satisfied: numpy>=1.14.6 in d:\\anaconda_2\\lib\\site-packages (from scikit-learn) (1.22.3)\n",
      "Requirement already satisfied: joblib>=0.11 in d:\\anaconda_2\\lib\\site-packages (from scikit-learn) (1.1.0)\n"
     ]
    }
   ],
   "source": [
    "import sys\n",
    "!{sys.executable} -m pip install scikit-learn"
   ]
  },
  {
   "cell_type": "code",
   "execution_count": 39,
   "id": "2a3e34c6",
   "metadata": {},
   "outputs": [],
   "source": [
    "#lets import the preprocessing library from module scikitlearn\n",
    "from sklearn import preprocessing"
   ]
  },
  {
   "cell_type": "markdown",
   "id": "302bec43",
   "metadata": {},
   "source": [
    "#### (a).categorical attributes"
   ]
  },
  {
   "cell_type": "markdown",
   "id": "452c53f2",
   "metadata": {},
   "source": [
    "##### (i).predictors"
   ]
  },
  {
   "cell_type": "code",
   "execution_count": 40,
   "id": "bf3f09e4",
   "metadata": {},
   "outputs": [
    {
     "data": {
      "text/plain": [
       "MONTH    0\n",
       "TYPE     0\n",
       "dtype: int64"
      ]
     },
     "execution_count": 40,
     "metadata": {},
     "output_type": "execute_result"
    }
   ],
   "source": [
    "#check for null values\n",
    "waste[['MONTH','TYPE']].isnull().sum()\n",
    "#seems no nulls for both cat  atrributes"
   ]
  },
  {
   "cell_type": "markdown",
   "id": "680e77d8",
   "metadata": {},
   "source": [
    "Transformers to handle categorical attributes"
   ]
  },
  {
   "cell_type": "code",
   "execution_count": 41,
   "id": "badad743",
   "metadata": {},
   "outputs": [
    {
     "data": {
      "text/plain": [
       "0        8\n",
       "1        2\n",
       "2        8\n",
       "3        7\n",
       "4        7\n",
       "        ..\n",
       "1135     9\n",
       "1136    10\n",
       "1137     3\n",
       "1138     5\n",
       "1139     9\n",
       "Name: MONTH, Length: 1140, dtype: int32"
      ]
     },
     "execution_count": 41,
     "metadata": {},
     "output_type": "execute_result"
    }
   ],
   "source": [
    "#Lets use transformers to encode cat variables,Label encoding is a technique used to convert categorical data to numeric\n",
    "#This is important because most machine learning algorithms only takes in numeric data\n",
    "le_mon =preprocessing.LabelEncoder()\n",
    "waste['MONTH']=le_mon.fit_transform(waste['MONTH'])\n",
    "\n",
    "le_ty = preprocessing.LabelEncoder()\n",
    "waste['TYPE']=le_ty.fit_transform(waste['TYPE'])\n",
    "\n",
    "waste['TYPE']\n",
    "waste['MONTH']"
   ]
  },
  {
   "cell_type": "markdown",
   "id": "7079cda9",
   "metadata": {},
   "source": [
    "Categorical attributes are now label encoded "
   ]
  },
  {
   "cell_type": "markdown",
   "id": "e4532648",
   "metadata": {},
   "source": [
    "#### (b).numerical attributes"
   ]
  },
  {
   "cell_type": "markdown",
   "id": "73841f38",
   "metadata": {},
   "source": [
    "##### (i).Clean target variable "
   ]
  },
  {
   "cell_type": "code",
   "execution_count": 42,
   "id": "270fd15b",
   "metadata": {},
   "outputs": [
    {
     "data": {
      "text/plain": [
       "TOTAL (IN TONS)    1\n",
       "dtype: int64"
      ]
     },
     "execution_count": 42,
     "metadata": {},
     "output_type": "execute_result"
    }
   ],
   "source": [
    "#Checking for missing values\n",
    "waste[['TOTAL (IN TONS)']].isnull().sum()\n",
    "#It has 1 missing value"
   ]
  },
  {
   "cell_type": "code",
   "execution_count": 43,
   "id": "f407ade0",
   "metadata": {},
   "outputs": [],
   "source": [
    "#Solve missing value\n",
    "waste['TOTAL (IN TONS)'] =waste['TOTAL (IN TONS)'].fillna(waste['TOTAL (IN TONS)'].mode()[0])"
   ]
  },
  {
   "cell_type": "code",
   "execution_count": 44,
   "id": "24683c87",
   "metadata": {},
   "outputs": [
    {
     "data": {
      "text/plain": [
       "0"
      ]
     },
     "execution_count": 44,
     "metadata": {},
     "output_type": "execute_result"
    }
   ],
   "source": [
    "#confirm\n",
    "waste['TOTAL (IN TONS)'].isnull().sum()"
   ]
  },
  {
   "cell_type": "markdown",
   "id": "ca8069b2",
   "metadata": {},
   "source": [
    "NB:It's not necessary to normalize the output/target variable"
   ]
  },
  {
   "cell_type": "markdown",
   "id": "d38e2b81",
   "metadata": {},
   "source": [
    "##### (ii)Clean numerical predictor and normalize it"
   ]
  },
  {
   "cell_type": "code",
   "execution_count": 45,
   "id": "fd383242",
   "metadata": {},
   "outputs": [
    {
     "data": {
      "text/plain": [
       "0       2012\n",
       "1       2014\n",
       "2       2014\n",
       "3       2013\n",
       "4       2017\n",
       "        ... \n",
       "1135    2018\n",
       "1136    2018\n",
       "1137    2011\n",
       "1138    2018\n",
       "1139    2018\n",
       "Name: YEAR, Length: 1140, dtype: int64"
      ]
     },
     "execution_count": 45,
     "metadata": {},
     "output_type": "execute_result"
    }
   ],
   "source": [
    "#We have one numerical predictor YEAR,\n",
    "waste['YEAR']"
   ]
  },
  {
   "cell_type": "code",
   "execution_count": 46,
   "id": "f1af3fa5",
   "metadata": {},
   "outputs": [
    {
     "data": {
      "text/plain": [
       "0"
      ]
     },
     "execution_count": 46,
     "metadata": {},
     "output_type": "execute_result"
    }
   ],
   "source": [
    "#check for nulls\n",
    "waste['YEAR'].isnull().sum()\n",
    "#no nulls"
   ]
  },
  {
   "cell_type": "code",
   "execution_count": 47,
   "id": "550729ac",
   "metadata": {},
   "outputs": [],
   "source": [
    "#Normalize it\n",
    "waste[['YEAR']]=preprocessing.normalize(waste[['YEAR']])"
   ]
  },
  {
   "cell_type": "markdown",
   "id": "d5b54e06",
   "metadata": {},
   "source": [
    "#### (c).Separate target and predictors"
   ]
  },
  {
   "cell_type": "code",
   "execution_count": 48,
   "id": "9d59b5f4",
   "metadata": {},
   "outputs": [],
   "source": [
    "#Separate predictors from target \n",
    "X=waste.drop(['TOTAL (IN TONS)'],axis=1)\n",
    "y=waste['TOTAL (IN TONS)']"
   ]
  },
  {
   "cell_type": "markdown",
   "id": "6625a1f9",
   "metadata": {},
   "source": [
    "*Done cleaning data let us move on to creating models*"
   ]
  },
  {
   "cell_type": "markdown",
   "id": "26d4961b",
   "metadata": {},
   "source": [
    "### (4).Creating the model"
   ]
  },
  {
   "cell_type": "markdown",
   "id": "212685e4",
   "metadata": {},
   "source": [
    "We will create and train two regression algorithms,Linear Regression and a Non-Linear regression (applied a polynomial transform).We will split our data into two portions (training data and testing data) and reserve a portion for testing our data.Testing the model using data that is different from training data will show how best the model performs in an out of sample data.This helps increase out of sample accuracy.We will then pick the model that performs better on this type of data."
   ]
  },
  {
   "cell_type": "code",
   "execution_count": 49,
   "id": "ee69feee",
   "metadata": {},
   "outputs": [],
   "source": [
    "#importing the libraries for splitting data and creating model instances\n",
    "from sklearn.model_selection import train_test_split\n",
    "from sklearn.linear_model import LinearRegression\n",
    "from sklearn.preprocessing import PolynomialFeatures"
   ]
  },
  {
   "cell_type": "markdown",
   "id": "be28fd85",
   "metadata": {},
   "source": [
    "#### (a).Split data"
   ]
  },
  {
   "cell_type": "code",
   "execution_count": 50,
   "id": "cd3a31f3",
   "metadata": {},
   "outputs": [
    {
     "name": "stdout",
     "output_type": "stream",
     "text": [
      "Shape training set X: (1026, 3)\n",
      "Shape training set y: (1026,)\n",
      "Shape testing set X: (114, 3)\n",
      "Shape testing set y: (114,)\n"
     ]
    }
   ],
   "source": [
    "#split data\n",
    "X_train,X_test,y_train,y_test = train_test_split(X,y,test_size=0.1,random_state=2)\n",
    "#We will train our model with 90% of the data that we have then use the remaining 10% for testing.The reason why I choose to \n",
    "#use this large amount on training is to make the model learn the pattern better now that we only \n",
    "#have a small dataset with fewer features\n",
    "#Shape of training set\n",
    "print('Shape training set X:',X_train.shape)\n",
    "print('Shape training set y:',y_train.shape)\n",
    "\n",
    "#Shape of testing set\n",
    "print('Shape testing set X:',X_test.shape)\n",
    "print('Shape testing set y:',y_test.shape)"
   ]
  },
  {
   "cell_type": "markdown",
   "id": "48ddb1bd",
   "metadata": {},
   "source": [
    "#### (b).Linear Regression"
   ]
  },
  {
   "cell_type": "markdown",
   "id": "7a0664ca",
   "metadata": {},
   "source": [
    "Lets train and evaluate our first algorithm"
   ]
  },
  {
   "cell_type": "markdown",
   "id": "50fe1026",
   "metadata": {},
   "source": [
    "##### (i).Train"
   ]
  },
  {
   "cell_type": "code",
   "execution_count": 51,
   "id": "514f01c6",
   "metadata": {},
   "outputs": [
    {
     "data": {
      "text/plain": [
       "LinearRegression()"
      ]
     },
     "execution_count": 51,
     "metadata": {},
     "output_type": "execute_result"
    }
   ],
   "source": [
    "#Create an instance of the model and store it in the variable LR\n",
    "LR = LinearRegression()\n",
    "LR.fit(X_train,y_train)"
   ]
  },
  {
   "cell_type": "markdown",
   "id": "0ac4cc4d",
   "metadata": {},
   "source": [
    "##### (ii).Predicting"
   ]
  },
  {
   "cell_type": "code",
   "execution_count": 52,
   "id": "47558c27",
   "metadata": {},
   "outputs": [
    {
     "data": {
      "text/plain": [
       "array([1592.64054731, 1612.67769198,  263.50915931, 1879.39450935,\n",
       "         -3.20765805])"
      ]
     },
     "execution_count": 52,
     "metadata": {},
     "output_type": "execute_result"
    }
   ],
   "source": [
    "#Perform the prediction\n",
    "yhat = LR.predict(X_test)\n",
    "yhat[0:5]"
   ]
  },
  {
   "cell_type": "markdown",
   "id": "a3bc1169",
   "metadata": {},
   "source": [
    "##### (iii).Evaluating"
   ]
  },
  {
   "cell_type": "code",
   "execution_count": 53,
   "id": "04774790",
   "metadata": {},
   "outputs": [
    {
     "name": "stdout",
     "output_type": "stream",
     "text": [
      "R2 Accuracy score using test data is 13.96610816324111 %\n",
      "mean_squared_error Accuracy score using test data is 5121578.968169812\n"
     ]
    }
   ],
   "source": [
    "#Import the necessary in sample evaluation libraries\n",
    "from sklearn.metrics import r2_score\n",
    "from sklearn.metrics import mean_squared_error\n",
    "\n",
    "#Get the model Accuracy using R-Squared\n",
    "score = r2_score(y_test,yhat)\n",
    "print('R2 Accuracy score using test data is',score*100,'%')\n",
    "\n",
    "#Get the model accuracy using mean squared error\n",
    "score = mean_squared_error(y_test,yhat)\n",
    "print('mean_squared_error Accuracy score using test data is',score)\n",
    "#NB for a good performing model mean_squared_error should be as small as possible\n",
    "#the smaller it is the more accurate the model is\n",
    "\n",
    "#THIS MODEL IS PERFORMING POORLY WITH AN OUT OF SAMPLE ACCURACY OF 13%"
   ]
  },
  {
   "cell_type": "markdown",
   "id": "ec390844",
   "metadata": {},
   "source": [
    "#### (c).Non-linear Regression (applied polynomial transform)"
   ]
  },
  {
   "cell_type": "markdown",
   "id": "4b2f0014",
   "metadata": {},
   "source": [
    "Lets train and evaluate our second algorithm"
   ]
  },
  {
   "cell_type": "markdown",
   "id": "f1323965",
   "metadata": {},
   "source": [
    "##### (i).Training"
   ]
  },
  {
   "cell_type": "code",
   "execution_count": 54,
   "id": "ceca1d3c",
   "metadata": {},
   "outputs": [
    {
     "data": {
      "text/plain": [
       "LinearRegression()"
      ]
     },
     "execution_count": 54,
     "metadata": {},
     "output_type": "execute_result"
    }
   ],
   "source": [
    "#Note polynomial feature transform is just for trying to make the non-linear regression line fit more \n",
    "#data points,thats why we use it together with the Linear regression model\n",
    "\n",
    "polynomial = PolynomialFeatures(degree=12) #have used a higher degree to increase the accuracy of the model,however increasing it further might reduce the accuracy\n",
    "PF = polynomial.fit_transform(X_train)\n",
    "PF\n",
    "#Train the linear regression model with X data that is transformed using polynomial feature \n",
    "#transform to make it a Non-Linear regression model\n",
    "NR = LinearRegression()\n",
    "NR.fit(PF,y_train)\n"
   ]
  },
  {
   "cell_type": "markdown",
   "id": "887b28f9",
   "metadata": {},
   "source": [
    "##### (ii).Predicting"
   ]
  },
  {
   "cell_type": "code",
   "execution_count": 55,
   "id": "1a4be8f8",
   "metadata": {},
   "outputs": [
    {
     "data": {
      "text/plain": [
       "282.4841349055205"
      ]
     },
     "execution_count": 55,
     "metadata": {},
     "output_type": "execute_result"
    }
   ],
   "source": [
    "#Transform the data to be predicted first using the polynormial feature\n",
    "X_transformed = polynomial.transform(X_test)\n",
    "#Perform prediction\n",
    "yhat = NR.predict(X_transformed)\n",
    "yhat[0]"
   ]
  },
  {
   "cell_type": "markdown",
   "id": "addbf4c6",
   "metadata": {},
   "source": [
    "##### (iii).Evaluating"
   ]
  },
  {
   "cell_type": "code",
   "execution_count": 56,
   "id": "bb405aa8",
   "metadata": {},
   "outputs": [
    {
     "name": "stdout",
     "output_type": "stream",
     "text": [
      "R2 Accuracy score using test data is 85.21463129366107 %\n",
      "mean_squared_error Accuracy score using test data is 5121578.968169812\n"
     ]
    }
   ],
   "source": [
    "#Get the model Accuracy using R-Squared\n",
    "score2 = r2_score(y_test,yhat)\n",
    "print('R2 Accuracy score using test data is',score2*100,'%')\n",
    "\n",
    "#Get the model accuracy using mean squared error\n",
    "score2 = mean_squared_error(y_test,yhat)\n",
    "print('mean_squared_error Accuracy score using test data is',score)\n",
    "#NON-LINEAR REGRESSION MODEL IS PERFORMING BETTER THAN LINEAR REGRESSION MODEL"
   ]
  },
  {
   "cell_type": "markdown",
   "id": "4f18ec02",
   "metadata": {},
   "source": [
    "##### (iv).Save the model that you've chosen"
   ]
  },
  {
   "cell_type": "markdown",
   "id": "d0ce7311",
   "metadata": {},
   "source": [
    "We will go for non-linear regression model because it has a better out of sample accuracy of roughly (84%) compared to linear regression with only 13%. "
   ]
  },
  {
   "cell_type": "code",
   "execution_count": 57,
   "id": "a2560cda",
   "metadata": {},
   "outputs": [],
   "source": [
    "import pickle\n",
    "#Save model,encoders,and polynomial feature transform\n",
    "saved_data = {'model':NR,'le_mon':le_mon,'le_ty':le_ty,'poly':polynomial}\n",
    "with open('chosen_model.pkl','wb') as file:\n",
    "    pickle.dump(saved_data,file)\n"
   ]
  },
  {
   "cell_type": "code",
   "execution_count": 58,
   "id": "ba1ac6fa",
   "metadata": {},
   "outputs": [
    {
     "data": {
      "text/plain": [
       "282.4841349055205"
      ]
     },
     "execution_count": 58,
     "metadata": {},
     "output_type": "execute_result"
    }
   ],
   "source": [
    "#Load model\n",
    "def load_model():\n",
    "    with open('chosen_model.pkl','rb') as file:\n",
    "        load_data=pickle.load(file)\n",
    "    return load_data\n",
    "\n",
    "data = load_model()    \n",
    "model = data[\"model\"]\n",
    "mon_encoder = data[\"le_mon\"]\n",
    "ty_encoder = data[\"le_ty\"]\n",
    "polynom = data[\"poly\"]\n",
    "#Test the saved model if its working\n",
    "yhat=model.predict(X_transformed)\n",
    "yhat[0]\n"
   ]
  },
  {
   "cell_type": "markdown",
   "id": "35e1d27b",
   "metadata": {},
   "source": [
    "Remember we want our model to be able to estimate the level of waste in the bin based on the waste accumulation behaviour of a certain bin.If the estimated value of the amount of waste is present in the bin then the app communicates to the server motor to empty the bin."
   ]
  },
  {
   "cell_type": "markdown",
   "id": "6458f815",
   "metadata": {},
   "source": [
    "**WE HAVE SUCCESSFULLY TRAINED OUR MODEL AND NOW WE NEED TO PUT IT INTO PRODUCTION,TO DO THIS WE WILL USE VS CODE (CODE EDITOR) AND PYTHON LIBRARY CALLED STREAMLIT TO DESIGN THE UI,THEREFORE THE CODE FOR BUILDING THE UI MIGHT NOT BE PRESENT IN THIS NOTEBOOK**"
   ]
  },
  {
   "cell_type": "markdown",
   "id": "c85eb1a0",
   "metadata": {},
   "source": [
    "### (5).Building the UI of the model"
   ]
  },
  {
   "cell_type": "markdown",
   "id": "5b0ed044",
   "metadata": {},
   "source": [
    "We will use python's library streamlit to build the user interface of the model.To save on time because streamlit does not require much coding and doesnt require prior knowledge of css,html and other web frameworks.Here in this section I will just export the code that I have used to create the UI from VS CODE.It therefore can't be executed from here in this notebook. "
   ]
  },
  {
   "cell_type": "markdown",
   "id": "63f72860",
   "metadata": {},
   "source": [
    "**Below is the code that generated this model's UI.However it's not executable here in the notebook. I used VS code to run the streamlit app. <br>**\n",
    "**Streamlit is an open source python library that can build a UI for various purposes.**"
   ]
  },
  {
   "cell_type": "code",
   "execution_count": 59,
   "id": "199577b0",
   "metadata": {},
   "outputs": [
    {
     "name": "stderr",
     "output_type": "stream",
     "text": [
      "2022-04-25 10:30:34.645 \n",
      "  \u001b[33m\u001b[1mWarning:\u001b[0m to view this Streamlit app on a browser, run it with the following\n",
      "  command:\n",
      "\n",
      "    streamlit run D:\\Anaconda_2\\lib\\site-packages\\ipykernel_launcher.py [ARGUMENTS]\n"
     ]
    }
   ],
   "source": [
    "#Import the necessary libraries\n",
    "#pip install \"scikit-learn==0.19.0\"\n",
    "import streamlit as st\n",
    "import pickle\n",
    "import pandas as pd\n",
    "from PIL import Image\n",
    "import time\n",
    "from sklearn import *\n",
    "\n",
    "#Load the model\n",
    "def load_model():\n",
    "    with open('chosen_model.pkl','rb') as file:\n",
    "        load_data=pickle.load(file)\n",
    "    return load_data\n",
    "\n",
    "load_data = load_model()\n",
    "model = load_data[\"model\"]\n",
    "mon_encoder = load_data[\"le_mon\"]\n",
    "ty_encoder = load_data[\"le_ty\"]\n",
    "polynom = load_data[\"poly\"]\n",
    "\n",
    "#This is for the title\n",
    "st.title('IN-HOUSE SMART DUSTBIN CLIENT APP')\n",
    "\n",
    "\n",
    "#Welcoming the user\n",
    "\"\"\"Welcome and feel free to use this app to check the level of the waste in the dustbin \"\"\"\n",
    "\n",
    "#Here am going to attach a photo\n",
    "\n",
    "#User data\n",
    "st.header('Enter the day,month and the bin you want to detect the waste level ')\n",
    "\n",
    "#Note\n",
    "\n",
    "\n",
    "#Store the input 'MONTH' selected by the user and tell them what they have choosen\n",
    "month=('May','December', 'March','October', 'June', 'January',\n",
    "        'November', 'February', 'July', 'April', 'September', 'August')\n",
    "\n",
    "chosen_month=st.selectbox('Select the month of the year',month)\n",
    "\n",
    "#Store the input 'DAY' entered by the user and tell them what they have choosen\n",
    "day = (1,2,3,4,5,6,7,8,9,10,11,12,13,14,15,16,17,18,19,20,21,22,23,24,25,26,27,28,29,30)\n",
    "\n",
    "chosen_day = st.selectbox('Select the day',day)\n",
    "\n",
    "#Store the input 'WASTE' that is contained in the bin\n",
    "waste= {\"My Bin\" : 'Yard Waste'}\n",
    "\n",
    "\n",
    "chosen_type=st.selectbox('Select the bin you want to monitor',waste)\n",
    "st.write('You currently have just one bin:',chosen_type)\n",
    "st.write('NB: We can keep track of more than one bins,you can always add more bins to this system')\n",
    "\n",
    "#What is contained in the bin\n",
    "for chosen_type,value in waste.items():\n",
    "    answer = value\n",
    "\n",
    " #Make a dataframe using the user input data\n",
    "input_data = {'MONTH':chosen_month,'DAY':chosen_day,'BIN':answer}\n",
    "input_df = pd.DataFrame(input_data,index=[0])\n",
    "\n",
    "#Show the user what they have entered\n",
    "st.header('You chose')\n",
    "st.table(input_df)\n",
    "\n",
    "#Output\n",
    "ok = st.button(\"MONITOR\")\n",
    "if ok:\n",
    "#CLEANING USER INPUT DATA\n",
    "    Z = input_df[['DAY','MONTH','BIN']]\n",
    "    Z['MONTH'] = mon_encoder.transform(Z['MONTH'])\n",
    "    Z['BIN'] = ty_encoder.transform(Z['BIN'])\n",
    "    Z[['DAY']] = preprocessing.normalize(Z[['DAY']])\n",
    "    Z = polynom.fit_transform(Z)\n",
    "\n",
    "#Contacting the cloud \n",
    "    waste_total = model.predict(Z)\n",
    "\n",
    "#This if statement is to inform the managing personnel more about the level of waste\n",
    "\n",
    "    if(waste_total[0]<=100):\n",
    "          st.markdown(f\"The garbage level is at [**{waste_total[0]:.2f} TONS**] mark.It is still a quarter full\")\n",
    "    elif(waste_total[0]>100 and waste_total[0]<=400):\n",
    "          st.markdown(f\"The garbage level is at [**{waste_total[0]:.2f} TONS**] mark.It is halfway full \")\n",
    "    else:\n",
    "        st.markdown(f\"The garbage level is at [**{waste_total[0]:.2f} TONS**] mark.The garbage is full!.No need to worry I am taking care of this in a moment\")\n",
    "        st.write(\"\"\"*Contacting the server motor to empty the bin......*\"\"\")\n",
    "        time.sleep(10)\n",
    "        empty = waste_total[0]-waste_total[0]\n",
    "        st.subheader(f\"The bin was successfully emptied, the garbage level is now at [*{empty}*] TONS\")"
   ]
  },
  {
   "cell_type": "code",
   "execution_count": null,
   "id": "b1ce5c69",
   "metadata": {},
   "outputs": [],
   "source": []
  }
 ],
 "metadata": {
  "kernelspec": {
   "display_name": "Python 3 (ipykernel)",
   "language": "python",
   "name": "python3"
  },
  "language_info": {
   "codemirror_mode": {
    "name": "ipython",
    "version": 3
   },
   "file_extension": ".py",
   "mimetype": "text/x-python",
   "name": "python",
   "nbconvert_exporter": "python",
   "pygments_lexer": "ipython3",
   "version": "3.9.12"
  }
 },
 "nbformat": 4,
 "nbformat_minor": 5
}
